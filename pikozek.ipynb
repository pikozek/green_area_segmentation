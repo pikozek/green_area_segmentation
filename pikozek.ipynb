{
  "nbformat": 4,
  "nbformat_minor": 0,
  "metadata": {
    "colab": {
      "provenance": []
    },
    "kernelspec": {
      "name": "python3",
      "display_name": "Python 3"
    },
    "language_info": {
      "name": "python"
    }
  },
  "cells": [
    {
      "cell_type": "code",
      "execution_count": 4,
      "metadata": {
        "id": "-OW8ua4Z0GV3"
      },
      "outputs": [],
      "source": []
    },
    {
      "cell_type": "code",
      "source": [
        "import numpy as np\n",
        "from PIL import Image\n",
        "import multiprocessing as mp\n",
        "\n",
        "def is_blue_vectorized(tile, threshold=40):\n",
        "    return (tile[:,:,2] > tile[:,:,0] + threshold) & (tile[:,:,2] > tile[:,:,1] + threshold)\n",
        "\n",
        "def process_tile(args):\n",
        "    img, box, threshold = args\n",
        "    tile = np.array(img.crop(box))\n",
        "    return np.sum(is_blue_vectorized(tile, threshold))\n",
        "\n",
        "def calculate_blue_area(image_path, real_width_km=2, real_height_km=2, tile_size=1024, threshold=40):\n",
        "    with Image.open(image_path) as img:\n",
        "        width, height = img.size\n",
        "        total_pixels = width * height\n",
        "\n",
        "        tiles = [\n",
        "            (img, (i, j, min(i + tile_size, width), min(j + tile_size, height)), threshold)\n",
        "            for i in range(0, width, tile_size)\n",
        "            for j in range(0, height, tile_size)\n",
        "        ]\n",
        "\n",
        "        with mp.Pool() as pool:\n",
        "            blue_pixels = sum(pool.map(process_tile, tiles))\n",
        "\n",
        "        blue_ratio = blue_pixels / total_pixels\n",
        "        total_area_km2 = real_width_km * real_height_km\n",
        "        blue_area_km2 = blue_ratio * total_area_km2\n",
        "\n",
        "        return blue_pixels, total_pixels, blue_area_km2, total_area_km2\n",
        "\n",
        "if __name__ == '__main__':\n",
        "    image_path = '/content/78fbe741-27e7-4e75-a179-9a1bd3a1292a.jpg'  # Replace with your image path\n",
        "    blue_count, total_count, blue_area, total_area = calculate_blue_area(image_path)\n",
        "\n",
        "    print(f\"Number of blue pixels: {blue_count}\")\n",
        "    print(f\"Total pixels: {total_count}\")\n",
        "    print(f\"Ratio of blue pixels to total pixels: {blue_count/total_count:.4f}\")\n",
        "    print(f\"Total area: {total_area:.2f} km²\")\n",
        "    print(f\"Blue area: {blue_area:.4f} km²\")\n",
        "    print(f\"Percentage of blue area: {(blue_area/total_area)*100:.2f}%\")"
      ],
      "metadata": {
        "colab": {
          "base_uri": "https://localhost:8080/"
        },
        "id": "ln9xyJMm0Spu",
        "outputId": "c5c4d8f4-a086-4cf7-b06b-35471d1aecdf"
      },
      "execution_count": 4,
      "outputs": [
        {
          "output_type": "stream",
          "name": "stdout",
          "text": [
            "Number of blue pixels: 4562454\n",
            "Total pixels: 67108864\n",
            "Ratio of blue pixels to total pixels: 0.0680\n",
            "Total area: 4.00 km²\n",
            "Blue area: 0.2719 km²\n",
            "Percentage of blue area: 6.80%\n"
          ]
        }
      ]
    },
    {
      "cell_type": "code",
      "source": [],
      "metadata": {
        "id": "i1gU1ArD1inn"
      },
      "execution_count": null,
      "outputs": []
    }
  ]
}